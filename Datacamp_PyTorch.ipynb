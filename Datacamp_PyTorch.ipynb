{
  "nbformat": 4,
  "nbformat_minor": 0,
  "metadata": {
    "colab": {
      "name": "Datacamp_PyTorch.ipynb",
      "provenance": [],
      "collapsed_sections": [],
      "authorship_tag": "ABX9TyMYMDtnHKA8oNEW6GXjQDiK",
      "include_colab_link": true
    },
    "kernelspec": {
      "name": "python3",
      "display_name": "Python 3"
    },
    "language_info": {
      "name": "python"
    }
  },
  "cells": [
    {
      "cell_type": "markdown",
      "metadata": {
        "id": "view-in-github",
        "colab_type": "text"
      },
      "source": [
        "<a href=\"https://colab.research.google.com/github/ChenyuL/Python-Note/blob/master/Datacamp_PyTorch.ipynb\" target=\"_parent\"><img src=\"https://colab.research.google.com/assets/colab-badge.svg\" alt=\"Open In Colab\"/></a>"
      ]
    },
    {
      "cell_type": "code",
      "execution_count": null,
      "metadata": {
        "id": "o2l6eWQuDznb"
      },
      "outputs": [],
      "source": [
        ""
      ]
    },
    {
      "cell_type": "markdown",
      "source": [
        "# Introduction to PyTorch"
      ],
      "metadata": {
        "id": "JFrYryMqD2Mr"
      }
    },
    {
      "cell_type": "code",
      "source": [
        "import torch \n",
        "print(torch.tensor([[2,3,5],[1,2,9]]))\n",
        "torch.rand(2,2)"
      ],
      "metadata": {
        "colab": {
          "base_uri": "https://localhost:8080/"
        },
        "id": "5E4Vl1B0D5Ho",
        "outputId": "11c540b7-2011-48a6-db2b-44e4f610dbc6"
      },
      "execution_count": null,
      "outputs": [
        {
          "output_type": "stream",
          "name": "stdout",
          "text": [
            "tensor([[2, 3, 5],\n",
            "        [1, 2, 9]])\n"
          ]
        },
        {
          "output_type": "execute_result",
          "data": {
            "text/plain": [
              "tensor([[0.2616, 0.5432],\n",
              "        [0.8069, 0.2663]])"
            ]
          },
          "metadata": {},
          "execution_count": 10
        }
      ]
    },
    {
      "cell_type": "code",
      "source": [
        "a = torch.rand((3,5,5,9))\n",
        "# print(a)\n",
        "a.shape\n"
      ],
      "metadata": {
        "colab": {
          "base_uri": "https://localhost:8080/"
        },
        "id": "UdFCuqO4EZk8",
        "outputId": "ea4a36f2-6346-4d94-e11b-45466b2c1b53"
      },
      "execution_count": null,
      "outputs": [
        {
          "output_type": "execute_result",
          "data": {
            "text/plain": [
              "torch.Size([3, 5, 5, 9])"
            ]
          },
          "metadata": {},
          "execution_count": 15
        }
      ]
    },
    {
      "cell_type": "code",
      "source": [
        "torch.Size([3,5])"
      ],
      "metadata": {
        "colab": {
          "base_uri": "https://localhost:8080/"
        },
        "id": "dZU66IgjEboa",
        "outputId": "278167a6-3c92-44e0-ba67-4a28081ad944"
      },
      "execution_count": null,
      "outputs": [
        {
          "output_type": "execute_result",
          "data": {
            "text/plain": [
              "torch.Size([3, 5])"
            ]
          },
          "metadata": {},
          "execution_count": 8
        }
      ]
    },
    {
      "cell_type": "code",
      "source": [
        "import numpy as np\n",
        "print(np.array([[2,3,5],[1,2,9]]))\n",
        "np.random.rand(2,2)"
      ],
      "metadata": {
        "colab": {
          "base_uri": "https://localhost:8080/"
        },
        "id": "bzYujWUREJZC",
        "outputId": "570f2d19-bc99-41a4-98b8-b606e3c3653c"
      },
      "execution_count": null,
      "outputs": [
        {
          "output_type": "stream",
          "name": "stdout",
          "text": [
            "[[2 3 5]\n",
            " [1 2 9]]\n"
          ]
        },
        {
          "output_type": "execute_result",
          "data": {
            "text/plain": [
              "array([[0.2794438 , 0.37435074],\n",
              "       [0.32345753, 0.59528883]])"
            ]
          },
          "metadata": {},
          "execution_count": 5
        }
      ]
    },
    {
      "cell_type": "markdown",
      "source": [
        "## Matrix operations \n"
      ],
      "metadata": {
        "id": "QJXnHaD6Evb2"
      }
    },
    {
      "cell_type": "code",
      "source": [
        "# torch \n",
        "a = torch.rand((2,2))\n",
        "b = torch.rand((2,2))\n",
        "# multiplication \n",
        "print(torch.matmul(a,b))\n",
        "# element wise operation \n",
        "a*b\n",
        "\n",
        "# zeros and ones\n",
        "a_torch = torch.zeros(2,2)\n",
        "b_torch = torch.ones(2,2)\n",
        "c_torch = torch.eye(2)\n",
        "print(a_torch,b_torch,c_torch)"
      ],
      "metadata": {
        "colab": {
          "base_uri": "https://localhost:8080/"
        },
        "id": "oE3e3R9jEzkg",
        "outputId": "1a3e531c-9d10-4e6f-faf2-c86ab3d2bce3"
      },
      "execution_count": null,
      "outputs": [
        {
          "output_type": "stream",
          "name": "stdout",
          "text": [
            "tensor([[0.4958, 0.7322],\n",
            "        [0.5614, 0.5952]])\n",
            "tensor([[0., 0.],\n",
            "        [0., 0.]]) tensor([[1., 1.],\n",
            "        [1., 1.]]) tensor([[1., 0.],\n",
            "        [0., 1.]])\n"
          ]
        }
      ]
    },
    {
      "cell_type": "code",
      "source": [
        "# numpy\n",
        "a = np.random.rand(2,2)\n",
        "b = np.random.rand(2,2)\n",
        "print(np.dot(a,b))\n",
        "# element wise: \n",
        "np.multiply(a,b)\n",
        "a_numpy = np.zeros((2,2))\n",
        "b_numpy = np.ones((2,2))\n",
        "c_numpy = np.identity(2)\n",
        "print(a_numpy,b_numpy,c_numpy)"
      ],
      "metadata": {
        "colab": {
          "base_uri": "https://localhost:8080/"
        },
        "id": "BchdzEXaE-jR",
        "outputId": "c34ea6b9-721f-49ab-89ee-c0fc1f81e062"
      },
      "execution_count": null,
      "outputs": [
        {
          "output_type": "stream",
          "name": "stdout",
          "text": [
            "[[0.25603036 0.3446837 ]\n",
            " [0.61129674 0.82685051]]\n",
            "[[0. 0.]\n",
            " [0. 0.]] [[1. 1.]\n",
            " [1. 1.]] [[1. 0.]\n",
            " [0. 1.]]\n"
          ]
        }
      ]
    },
    {
      "cell_type": "code",
      "source": [
        "### convert pytorch to numpy \n",
        "d_torch = torch.from_numpy(c_numpy)\n",
        "print(d_torch)\n",
        "d_numpy = c_torch.numpy()\n",
        "print(d_numpy)"
      ],
      "metadata": {
        "colab": {
          "base_uri": "https://localhost:8080/"
        },
        "id": "thKpEYSbFJ7l",
        "outputId": "4610a4b4-4f95-4a64-bced-6b7e5a4809fb"
      },
      "execution_count": null,
      "outputs": [
        {
          "output_type": "stream",
          "name": "stdout",
          "text": [
            "tensor([[1., 0.],\n",
            "        [0., 1.]], dtype=torch.float64)\n",
            "[[1. 0.]\n",
            " [0. 1.]]\n"
          ]
        }
      ]
    }
  ]
}